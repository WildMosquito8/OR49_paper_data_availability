{
 "cells": [
  {
   "cell_type": "markdown",
   "id": "4b7edeca",
   "metadata": {},
   "source": [
    "## Imports"
   ]
  },
  {
   "cell_type": "code",
   "execution_count": null,
   "id": "d0a2ac59-6c82-47c0-b60b-7d91ceec630f",
   "metadata": {
    "tags": []
   },
   "outputs": [],
   "source": [
    "from ultralytics import YOLO\n",
    "import cv2\n",
    "import matplotlib.pyplot as plt"
   ]
  },
  {
   "cell_type": "markdown",
   "id": "2d5baf49",
   "metadata": {},
   "source": [
    "## Parameters"
   ]
  },
  {
   "cell_type": "code",
   "execution_count": null,
   "id": "0c958d0d",
   "metadata": {},
   "outputs": [],
   "source": [
    "MODEL_PATH = \"PATH/TO/MODEL.pt\"\n",
    "IMAGE_PATH = \"PATH/TO/IMAGE.png\""
   ]
  },
  {
   "cell_type": "markdown",
   "id": "5043139d",
   "metadata": {},
   "source": [
    "## Loading weigths & Inference"
   ]
  },
  {
   "cell_type": "code",
   "execution_count": null,
   "id": "65720a86",
   "metadata": {},
   "outputs": [],
   "source": [
    "# Load a model\n",
    "model = YOLO(MODEL_PATH)\n",
    "\n",
    "# Predict with the model\n",
    "results = model(IMAGE_PATH)  # predict on an image"
   ]
  },
  {
   "cell_type": "markdown",
   "id": "bea86e8f",
   "metadata": {},
   "source": [
    "## Visualization"
   ]
  },
  {
   "cell_type": "code",
   "execution_count": null,
   "id": "80d28b5a-4376-4520-8333-4306e93a044e",
   "metadata": {
    "tags": []
   },
   "outputs": [],
   "source": [
    "# Get the result image with bounding boxes\n",
    "result_image = results[0].plot()  \n",
    "\n",
    "# Convert the image from BGR to RGB (if using OpenCV)\n",
    "result_image_rgb = cv2.cvtColor(result_image, cv2.COLOR_BGR2RGB)\n",
    "\n",
    "# Display the image using matplotlib\n",
    "plt.imshow(result_image_rgb)\n",
    "plt.axis('off') \n",
    "plt.show() "
   ]
  }
 ],
 "metadata": {
  "kernelspec": {
   "display_name": "mosq",
   "language": "python",
   "name": "python3"
  },
  "language_info": {
   "codemirror_mode": {
    "name": "ipython",
    "version": 3
   },
   "file_extension": ".py",
   "mimetype": "text/x-python",
   "name": "python",
   "nbconvert_exporter": "python",
   "pygments_lexer": "ipython3",
   "version": "3.10.14"
  }
 },
 "nbformat": 4,
 "nbformat_minor": 5
}
